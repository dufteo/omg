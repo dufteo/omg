{
  "nbformat": 4,
  "nbformat_minor": 0,
  "metadata": {
    "colab": {
      "name": "Untitled2.ipynb의 사본",
      "provenance": [],
      "collapsed_sections": []
    },
    "kernelspec": {
      "name": "python3",
      "display_name": "Python 3"
    },
    "language_info": {
      "name": "python"
    }
  },
  "cells": [
    {
      "cell_type": "markdown",
      "source": [
        "### 3. 리스트\n"
      ],
      "metadata": {
        "id": "ulRzE1Z1WBKx"
      }
    },
    {
      "cell_type": "code",
      "source": [
        ""
      ],
      "metadata": {
        "id": "3nmAnfqzlphG"
      },
      "execution_count": null,
      "outputs": []
    },
    {
      "cell_type": "code",
      "source": [
        ""
      ],
      "metadata": {
        "id": "B1KTfdhbWKDB"
      },
      "execution_count": null,
      "outputs": []
    },
    {
      "cell_type": "markdown",
      "source": [
        ""
      ],
      "metadata": {
        "id": "reF3Bu8idcpT"
      }
    },
    {
      "cell_type": "markdown",
      "source": [
        ""
      ],
      "metadata": {
        "id": "ngI3e0YzWLPp"
      }
    },
    {
      "cell_type": "code",
      "source": [
        "a = ['claudio', 'zizi', 'luchiano']\n",
        "b = list('abc')\n",
        "\n",
        "print(a, b)"
      ],
      "metadata": {
        "colab": {
          "base_uri": "https://localhost:8080/"
        },
        "id": "V-C54IG2WWNA",
        "outputId": "06dfbc70-c08a-4071-9ba6-6e69a5315c48"
      },
      "execution_count": null,
      "outputs": [
        {
          "output_type": "stream",
          "name": "stdout",
          "text": [
            "['claudio', 'zizi', 'luchiano'] ['a', 'b', 'c']\n"
          ]
        }
      ]
    },
    {
      "cell_type": "code",
      "source": [
        "for i in range(0,3):\n",
        "  print(f'{a[i]}, index number: {i}')"
      ],
      "metadata": {
        "colab": {
          "base_uri": "https://localhost:8080/"
        },
        "id": "HcgrNZqnWWTw",
        "outputId": "de8cd8a5-2a3d-4a20-b237-9ca09c04e93c"
      },
      "execution_count": null,
      "outputs": [
        {
          "output_type": "stream",
          "name": "stdout",
          "text": [
            "claudio, index number: 0\n",
            "zizi, index number: 1\n",
            "luchiano, index number: 2\n"
          ]
        }
      ]
    },
    {
      "cell_type": "code",
      "source": [
        "# 리스트 값 변경가능\n",
        "a[2] = 'bito'\n",
        "print(a)"
      ],
      "metadata": {
        "colab": {
          "base_uri": "https://localhost:8080/"
        },
        "id": "HcdVXHQnWWYA",
        "outputId": "b24415e7-a1c8-4b62-f19e-a5f504c20b3a"
      },
      "execution_count": null,
      "outputs": [
        {
          "output_type": "stream",
          "name": "stdout",
          "text": [
            "['claudio', 'zizi', 'bito']\n"
          ]
        }
      ]
    },
    {
      "cell_type": "code",
      "source": [
        ""
      ],
      "metadata": {
        "id": "LIgJiujlWWag"
      },
      "execution_count": null,
      "outputs": []
    },
    {
      "cell_type": "code",
      "source": [
        ""
      ],
      "metadata": {
        "id": "wwZwfNnRWWcp"
      },
      "execution_count": null,
      "outputs": []
    },
    {
      "cell_type": "code",
      "source": [
        ""
      ],
      "metadata": {
        "id": "sgD5MxGaWWer"
      },
      "execution_count": null,
      "outputs": []
    },
    {
      "cell_type": "markdown",
      "source": [
        "#### 활용\n",
        "\n",
        "`.index()` 값으로 위치 찾기  \n",
        "`.append()`, `.insert()` 항목 추가하기 / 항목 삽입하기  \n",
        "`.del()`, `.remove()`  항목 삭제하기(인덱스로) / 항목 삭제하기 (값으로)  \n",
        "`in` 존재여부 확인하기\n",
        "`len()` 전체 개수세기  \n",
        "`.count()` 특정 항목 개수세기  \n",
        "`sum()`, `min()`, `max()`  핪 / 최대값 / 최소값   \n",
        "  \n",
        "`sort()` 내부적으로 정렬  \n",
        "  - sort`(reserve = True)` 역순으로 정렬  \n",
        "`sorted()` 정렬된 복사본 반환"
      ],
      "metadata": {
        "id": "8GVAqTTkXOvC"
      }
    },
    {
      "cell_type": "code",
      "source": [
        "LongTea = ['gin', 'vodka', 'blanco', 'cointreau']\n",
        "\n",
        "print(LongTea.index('vodka'))"
      ],
      "metadata": {
        "colab": {
          "base_uri": "https://localhost:8080/"
        },
        "id": "kkyWBrhSYYN5",
        "outputId": "6fa4eed9-5fed-4a1a-f063-b1f9afd39531"
      },
      "execution_count": null,
      "outputs": [
        {
          "output_type": "stream",
          "name": "stdout",
          "text": [
            "1\n"
          ]
        }
      ]
    },
    {
      "cell_type": "code",
      "source": [
        "LongTea.append('lemon')\n",
        "print(LongTea)\n",
        "\n",
        "LongTea.insert(2, 'rum')\n",
        "print(LongTea)"
      ],
      "metadata": {
        "colab": {
          "base_uri": "https://localhost:8080/"
        },
        "id": "1j5GJS49ZWf5",
        "outputId": "4f41d364-4778-4954-a323-4c34ec9273af"
      },
      "execution_count": null,
      "outputs": [
        {
          "output_type": "stream",
          "name": "stdout",
          "text": [
            "['gin', 'vodka', 'blanco', 'cointreau', 'lemon']\n",
            "['gin', 'vodka', 'rum', 'blanco', 'cointreau', 'lemon']\n"
          ]
        }
      ]
    },
    {
      "cell_type": "code",
      "source": [
        "del LongTea[3]\n",
        "print(LongTea)\n",
        "\n",
        "LongTea.remove('cointreau')\n",
        "print(LongTea)"
      ],
      "metadata": {
        "colab": {
          "base_uri": "https://localhost:8080/"
        },
        "id": "4lLe_EwbZtfw",
        "outputId": "400db721-5c73-4d6e-e315-ecb8dc77305a"
      },
      "execution_count": null,
      "outputs": [
        {
          "output_type": "stream",
          "name": "stdout",
          "text": [
            "['gin', 'vodka', 'rum', 'cointreau', 'lemon']\n",
            "['gin', 'vodka', 'rum', 'lemon']\n"
          ]
        }
      ]
    },
    {
      "cell_type": "code",
      "source": [
        "print('blanco' in LongTea)\n",
        "print('lemon' in LongTea)"
      ],
      "metadata": {
        "colab": {
          "base_uri": "https://localhost:8080/"
        },
        "id": "CYmvB_G5aBCo",
        "outputId": "df4296d2-b2e1-4a2a-e493-49c434f5d8ad"
      },
      "execution_count": null,
      "outputs": [
        {
          "output_type": "stream",
          "name": "stdout",
          "text": [
            "False\n",
            "True\n"
          ]
        }
      ]
    },
    {
      "cell_type": "code",
      "source": [
        "print(len(LongTea))"
      ],
      "metadata": {
        "colab": {
          "base_uri": "https://localhost:8080/"
        },
        "id": "_gHogACpaJrR",
        "outputId": "3b57b745-7450-4a09-b7fc-a59e2d08a73b"
      },
      "execution_count": null,
      "outputs": [
        {
          "output_type": "stream",
          "name": "stdout",
          "text": [
            "4\n"
          ]
        }
      ]
    },
    {
      "cell_type": "code",
      "source": [
        ""
      ],
      "metadata": {
        "id": "NWmWdKQXaQR5"
      },
      "execution_count": null,
      "outputs": []
    },
    {
      "cell_type": "code",
      "source": [
        "numbers = [1, 2 ,5, 5, 6, 46, 8412, 23, 3, 26, 46]\n",
        "\n",
        "print(numbers.count(5), end='\\n\\n')\n",
        "print(sum(numbers),\n",
        "      min(numbers),\n",
        "      max(numbers), sep='\\n')"
      ],
      "metadata": {
        "colab": {
          "base_uri": "https://localhost:8080/"
        },
        "id": "0Y0frxIVaUjb",
        "outputId": "8920724f-5ac0-4e99-d0c3-2d0ec037b59f"
      },
      "execution_count": null,
      "outputs": [
        {
          "output_type": "stream",
          "name": "stdout",
          "text": [
            "2\n",
            "\n",
            "8575\n",
            "1\n",
            "8412\n"
          ]
        }
      ]
    },
    {
      "cell_type": "code",
      "source": [
        "numbers.sort()\n",
        "print(numbers)"
      ],
      "metadata": {
        "colab": {
          "base_uri": "https://localhost:8080/"
        },
        "id": "6Lh7J_ekaUqC",
        "outputId": "c7ace7c3-342f-4f03-870d-2c795885fae4"
      },
      "execution_count": null,
      "outputs": [
        {
          "output_type": "stream",
          "name": "stdout",
          "text": [
            "[1, 2, 3, 5, 5, 6, 23, 26, 46, 46, 8412]\n"
          ]
        }
      ]
    },
    {
      "cell_type": "code",
      "source": [
        "numbers.sort(reverse = True)\n",
        "print(numbers)"
      ],
      "metadata": {
        "colab": {
          "base_uri": "https://localhost:8080/"
        },
        "id": "k4ms7IwUaUsq",
        "outputId": "2eb28dc0-6c71-4c69-f9f0-65dd47d95e00"
      },
      "execution_count": null,
      "outputs": [
        {
          "output_type": "stream",
          "name": "stdout",
          "text": [
            "[8412, 46, 46, 26, 23, 6, 5, 5, 3, 2, 1]\n"
          ]
        }
      ]
    },
    {
      "cell_type": "code",
      "source": [
        "a = sorted(numbers)\n",
        "print(numbers)\n",
        "print(a)"
      ],
      "metadata": {
        "colab": {
          "base_uri": "https://localhost:8080/"
        },
        "id": "__o9s5ojaUuy",
        "outputId": "71f11073-7855-4f31-885e-3a4506935b9b"
      },
      "execution_count": null,
      "outputs": [
        {
          "output_type": "stream",
          "name": "stdout",
          "text": [
            "[1, 2, 5, 5, 6, 46, 8412, 23, 3, 26, 46]\n",
            "[1, 2, 3, 5, 5, 6, 23, 26, 46, 46, 8412]\n"
          ]
        }
      ]
    },
    {
      "cell_type": "code",
      "source": [
        "numbers.reverse()\n",
        "print(numbers)\n",
        "#역순 출력"
      ],
      "metadata": {
        "colab": {
          "base_uri": "https://localhost:8080/"
        },
        "id": "BZmk22ecaUww",
        "outputId": "f53637f2-2ac7-41fb-a594-84d793d463cd"
      },
      "execution_count": null,
      "outputs": [
        {
          "output_type": "stream",
          "name": "stdout",
          "text": [
            "[46, 26, 3, 23, 8412, 46, 6, 5, 5, 2, 1]\n"
          ]
        }
      ]
    },
    {
      "cell_type": "code",
      "source": [
        "numbers.sort()\n",
        "print(numbers)\n",
        "#오름차순"
      ],
      "metadata": {
        "colab": {
          "base_uri": "https://localhost:8080/"
        },
        "id": "C6_m6tZVaUyy",
        "outputId": "e04f503d-13ab-4b2e-b869-1f297008e621"
      },
      "execution_count": null,
      "outputs": [
        {
          "output_type": "stream",
          "name": "stdout",
          "text": [
            "[1, 2, 3, 5, 5, 6, 23, 26, 46, 46, 8412]\n"
          ]
        }
      ]
    },
    {
      "cell_type": "code",
      "source": [
        "numbers.sort(reverse=True)\n",
        "print(numbers)\n",
        "#내림차순"
      ],
      "metadata": {
        "colab": {
          "base_uri": "https://localhost:8080/"
        },
        "id": "-Gd61WXfdIVi",
        "outputId": "5add81ce-3068-4dd9-f090-910e2a066cd3"
      },
      "execution_count": null,
      "outputs": [
        {
          "output_type": "stream",
          "name": "stdout",
          "text": [
            "[8412, 46, 46, 26, 23, 6, 5, 5, 3, 2, 1]\n"
          ]
        }
      ]
    },
    {
      "cell_type": "code",
      "source": [
        ""
      ],
      "metadata": {
        "id": "cdug3C7wdTms"
      },
      "execution_count": null,
      "outputs": []
    },
    {
      "cell_type": "markdown",
      "source": [
        "### 12. 튜플\n",
        "리스트와 다르게 변경 불가 (immutable)  \n",
        "한 번에 여러 개의 변수에 할당 가능"
      ],
      "metadata": {
        "id": "palcK3kKddqR"
      }
    },
    {
      "cell_type": "code",
      "source": [
        "tu='a','b','c'\n",
        "tu1,tu2,tu3 = tu\n",
        "print(tu)\n",
        "print(tu1)"
      ],
      "metadata": {
        "colab": {
          "base_uri": "https://localhost:8080/"
        },
        "id": "wDaKP0e5dvXw",
        "outputId": "a95aa456-07da-4a7c-d841-73623cb55f9c"
      },
      "execution_count": null,
      "outputs": [
        {
          "output_type": "stream",
          "name": "stdout",
          "text": [
            "('a', 'b', 'c')\n",
            "a\n"
          ]
        }
      ]
    },
    {
      "cell_type": "markdown",
      "source": [
        "#### 3. 튜플 인덱스"
      ],
      "metadata": {
        "id": "hNaNBjvyd-Wp"
      }
    },
    {
      "cell_type": "code",
      "source": [
        "tu = ('a','b','c')\n",
        "\n",
        "for i in range(len(tu)):\n",
        "  print(f'{tu[i]}, tuple index: {i}')"
      ],
      "metadata": {
        "colab": {
          "base_uri": "https://localhost:8080/"
        },
        "id": "LGdv2uwXd4hw",
        "outputId": "a9db5e1c-c141-4e3e-f4da-997a0b75d8a0"
      },
      "execution_count": null,
      "outputs": [
        {
          "output_type": "stream",
          "name": "stdout",
          "text": [
            "a, tuple index: 0\n",
            "b, tuple index: 1\n",
            "c, tuple index: 2\n"
          ]
        }
      ]
    },
    {
      "cell_type": "markdown",
      "source": [
        "####4. 튜플 활용"
      ],
      "metadata": {
        "id": "vDkZJYSDeoLS"
      }
    },
    {
      "cell_type": "code",
      "source": [
        "print(tu.index('b'))"
      ],
      "metadata": {
        "colab": {
          "base_uri": "https://localhost:8080/"
        },
        "id": "ZjMtzwRieNib",
        "outputId": "bb493fd3-fd87-42d2-e806-186b6f2303c3"
      },
      "execution_count": null,
      "outputs": [
        {
          "output_type": "stream",
          "name": "stdout",
          "text": [
            "1\n"
          ]
        }
      ]
    },
    {
      "cell_type": "code",
      "source": [
        "print('a' in tu)"
      ],
      "metadata": {
        "colab": {
          "base_uri": "https://localhost:8080/"
        },
        "id": "bq0jABLjewiw",
        "outputId": "2916ae1e-61fe-4943-93c0-4ca1473b5885"
      },
      "execution_count": null,
      "outputs": [
        {
          "output_type": "stream",
          "name": "stdout",
          "text": [
            "True\n"
          ]
        }
      ]
    },
    {
      "cell_type": "code",
      "source": [
        "print(len(tu))"
      ],
      "metadata": {
        "colab": {
          "base_uri": "https://localhost:8080/"
        },
        "id": "tmV3La0dey2a",
        "outputId": "01a26e7d-97bb-43a9-845a-ebeb6e8fea96"
      },
      "execution_count": null,
      "outputs": [
        {
          "output_type": "stream",
          "name": "stdout",
          "text": [
            "3\n"
          ]
        }
      ]
    },
    {
      "cell_type": "code",
      "source": [
        "print(tu.count('a'))"
      ],
      "metadata": {
        "colab": {
          "base_uri": "https://localhost:8080/"
        },
        "id": "VUzWwExze0r6",
        "outputId": "218bf8e1-c14a-4965-f01a-f9beccecd6e2"
      },
      "execution_count": null,
      "outputs": [
        {
          "output_type": "stream",
          "name": "stdout",
          "text": [
            "1\n"
          ]
        }
      ]
    },
    {
      "cell_type": "code",
      "source": [
        "numbering = (12,13,20)\n",
        "n1, n2, n3 = numbering\n",
        "\n",
        "print(n1, n3, n2)"
      ],
      "metadata": {
        "colab": {
          "base_uri": "https://localhost:8080/"
        },
        "id": "hsw85Y1Qe3wS",
        "outputId": "a9e82c73-ece9-47a1-cf47-5da16ade2cec"
      },
      "execution_count": null,
      "outputs": [
        {
          "output_type": "stream",
          "name": "stdout",
          "text": [
            "12 20 13\n"
          ]
        }
      ]
    },
    {
      "cell_type": "code",
      "source": [
        "a1, a2 = numbering"
      ],
      "metadata": {
        "colab": {
          "base_uri": "https://localhost:8080/",
          "height": 174
        },
        "id": "J84Y414Ce5r8",
        "outputId": "9f142b14-cdc9-4de7-ec95-b01890c2da3a"
      },
      "execution_count": null,
      "outputs": [
        {
          "output_type": "error",
          "ename": "ValueError",
          "evalue": "ignored",
          "traceback": [
            "\u001b[0;31m---------------------------------------------------------------------------\u001b[0m",
            "\u001b[0;31mValueError\u001b[0m                                Traceback (most recent call last)",
            "\u001b[0;32m<ipython-input-44-c90b37a8356c>\u001b[0m in \u001b[0;36m<module>\u001b[0;34m()\u001b[0m\n\u001b[0;32m----> 1\u001b[0;31m \u001b[0ma1\u001b[0m\u001b[0;34m,\u001b[0m \u001b[0ma2\u001b[0m \u001b[0;34m=\u001b[0m \u001b[0mnumbering\u001b[0m\u001b[0;34m\u001b[0m\u001b[0;34m\u001b[0m\u001b[0m\n\u001b[0m",
            "\u001b[0;31mValueError\u001b[0m: too many values to unpack (expected 2)"
          ]
        }
      ]
    },
    {
      "cell_type": "markdown",
      "source": [
        "개수 안 맞아서 오류 발생"
      ],
      "metadata": {
        "id": "6Q9KYvp-fMZC"
      }
    },
    {
      "cell_type": "code",
      "source": [
        "a = 'hello'\n",
        "b = 'world'\n",
        "\n",
        "(a,b) = (b,a)\n",
        "print(a, b)"
      ],
      "metadata": {
        "colab": {
          "base_uri": "https://localhost:8080/"
        },
        "id": "hHnKdSWwfLPq",
        "outputId": "4c7d3f91-1074-44df-9f38-b23ec685aa59"
      },
      "execution_count": null,
      "outputs": [
        {
          "output_type": "stream",
          "name": "stdout",
          "text": [
            "world hello\n"
          ]
        }
      ]
    },
    {
      "cell_type": "code",
      "source": [
        "alpha = ['a','b','c','d','e','f']\n",
        "tupl = tuple(alpha)\n",
        "print(tupl)"
      ],
      "metadata": {
        "colab": {
          "base_uri": "https://localhost:8080/"
        },
        "id": "b9WOmvllfVT6",
        "outputId": "bea0ced1-fa9e-493b-85d9-a5965eb77102"
      },
      "execution_count": null,
      "outputs": [
        {
          "output_type": "stream",
          "name": "stdout",
          "text": [
            "('a', 'b', 'c', 'd', 'e', 'f')\n"
          ]
        }
      ]
    },
    {
      "cell_type": "code",
      "source": [
        "listt = list(tupl)\n",
        "print(listt)"
      ],
      "metadata": {
        "colab": {
          "base_uri": "https://localhost:8080/"
        },
        "id": "vjGyegSifmMy",
        "outputId": "d0631da5-1d54-4aa2-b688-6be5382bbffc"
      },
      "execution_count": null,
      "outputs": [
        {
          "output_type": "stream",
          "name": "stdout",
          "text": [
            "['a', 'b', 'c', 'd', 'e', 'f']\n"
          ]
        }
      ]
    },
    {
      "cell_type": "code",
      "source": [
        ""
      ],
      "metadata": {
        "id": "Kyr3K8J1fqgi"
      },
      "execution_count": null,
      "outputs": []
    },
    {
      "cell_type": "markdown",
      "source": [
        "### 13. 집합 set\n",
        "\n",
        "딕셔너리에서 값 제거한 키와 비슷  \n",
        "{} 중괄호로 값 구분  \n",
        "순서대로 저장되지 않음 , 순서가 없고 그래서 sort() 사용 불가  \n",
        "중복된 값은 한 번만 저장  \n",
        "set() 함수 이용해서 만들 수 있음  \n",
        "**중괄호{}** 이용해서도 만들 수 있지만 빈 set은 만들 수 없음"
      ],
      "metadata": {
        "id": "bsE2zvpMfstq"
      }
    },
    {
      "cell_type": "code",
      "source": [
        "b = {10,2,4,4,8,5,6,8}\n",
        "print(b)"
      ],
      "metadata": {
        "colab": {
          "base_uri": "https://localhost:8080/"
        },
        "id": "1rXZrDuPf4xs",
        "outputId": "32da9c45-a18e-4c5e-86c2-535196cfdeed"
      },
      "execution_count": null,
      "outputs": [
        {
          "output_type": "stream",
          "name": "stdout",
          "text": [
            "{2, 4, 5, 6, 8, 10}\n"
          ]
        }
      ]
    },
    {
      "cell_type": "code",
      "source": [
        "print(b)"
      ],
      "metadata": {
        "colab": {
          "base_uri": "https://localhost:8080/"
        },
        "id": "U1uGUBpsf-lb",
        "outputId": "4d64d36f-e14f-454c-bbdc-7df0b7147310"
      },
      "execution_count": null,
      "outputs": [
        {
          "output_type": "stream",
          "name": "stdout",
          "text": [
            "{2, 4, 5, 6, 8}\n"
          ]
        }
      ]
    },
    {
      "cell_type": "code",
      "source": [
        "setting = {2,4,6,8}\n",
        "setting.add(5)\n",
        "\n",
        "print(setting)"
      ],
      "metadata": {
        "colab": {
          "base_uri": "https://localhost:8080/"
        },
        "id": "eLDJytkHgCPy",
        "outputId": "2cc66f4a-7dd4-43a2-8aa8-9b03a22b0765"
      },
      "execution_count": null,
      "outputs": [
        {
          "output_type": "stream",
          "name": "stdout",
          "text": [
            "{2, 4, 5, 6, 8}\n"
          ]
        }
      ]
    },
    {
      "cell_type": "code",
      "source": [
        "setting.remove(5)\n",
        "print(setting)"
      ],
      "metadata": {
        "colab": {
          "base_uri": "https://localhost:8080/"
        },
        "id": "rICa5y__gxfT",
        "outputId": "7553fd27-e25f-4d51-e0f8-722d45a984df"
      },
      "execution_count": null,
      "outputs": [
        {
          "output_type": "stream",
          "name": "stdout",
          "text": [
            "{2, 4, 6, 8}\n"
          ]
        }
      ]
    },
    {
      "cell_type": "code",
      "source": [
        "print(10 in setting)"
      ],
      "metadata": {
        "colab": {
          "base_uri": "https://localhost:8080/"
        },
        "id": "ScHXHHDag1c7",
        "outputId": "11897774-c51b-45b1-a192-f7ed58a94382"
      },
      "execution_count": null,
      "outputs": [
        {
          "output_type": "stream",
          "name": "stdout",
          "text": [
            "False\n"
          ]
        }
      ]
    },
    {
      "cell_type": "code",
      "source": [
        "print(len(setting))"
      ],
      "metadata": {
        "colab": {
          "base_uri": "https://localhost:8080/"
        },
        "id": "tTJEPL9Ug5Iz",
        "outputId": "162362c0-22ca-45ec-9dfd-1b271653dc80"
      },
      "execution_count": null,
      "outputs": [
        {
          "output_type": "stream",
          "name": "stdout",
          "text": [
            "4\n"
          ]
        }
      ]
    },
    {
      "cell_type": "code",
      "source": [
        "print(sum(setting),\n",
        "      min(setting),\n",
        "      max(setting), sep='\\n')"
      ],
      "metadata": {
        "colab": {
          "base_uri": "https://localhost:8080/"
        },
        "id": "p-91US_wg8bL",
        "outputId": "de29550d-225a-4b7f-f0b1-7279bc282b10"
      },
      "execution_count": null,
      "outputs": [
        {
          "output_type": "stream",
          "name": "stdout",
          "text": [
            "20\n",
            "2\n",
            "8\n"
          ]
        }
      ]
    },
    {
      "cell_type": "code",
      "source": [
        "b = tuple(setting)\n",
        "print(b)\n",
        "\n",
        "c = list(setting)\n",
        "print(c)"
      ],
      "metadata": {
        "colab": {
          "base_uri": "https://localhost:8080/"
        },
        "id": "_O35BY_hhHiC",
        "outputId": "5653884a-f0d5-47e7-d5cd-82d27f587bff"
      },
      "execution_count": null,
      "outputs": [
        {
          "output_type": "stream",
          "name": "stdout",
          "text": [
            "(2, 4, 6, 8)\n",
            "[2, 4, 6, 8]\n"
          ]
        }
      ]
    },
    {
      "cell_type": "code",
      "source": [
        ""
      ],
      "metadata": {
        "id": "PwMQOBAahW_T"
      },
      "execution_count": null,
      "outputs": []
    },
    {
      "cell_type": "code",
      "source": [
        ""
      ],
      "metadata": {
        "id": "zPvBZuzRhckF"
      },
      "execution_count": null,
      "outputs": []
    },
    {
      "cell_type": "markdown",
      "source": [
        "#### 5. 집합 연산"
      ],
      "metadata": {
        "id": "XQNu4gQeiD1l"
      }
    },
    {
      "cell_type": "code",
      "source": [
        "a = {1,2.3}\n",
        "b = {2,3,4}"
      ],
      "metadata": {
        "id": "8HUUD1Unhcnc"
      },
      "execution_count": null,
      "outputs": []
    },
    {
      "cell_type": "code",
      "source": [
        "print(a&b, a.intersection(b))\n",
        "print(a | b, a.union(b))\n",
        "\n",
        "print(a-b, a.difference(b))\n",
        "print(a^b)"
      ],
      "metadata": {
        "colab": {
          "base_uri": "https://localhost:8080/"
        },
        "id": "i5mDu_1Thcp1",
        "outputId": "c32ef168-6f1e-4efa-ea12-d25981c3923c"
      },
      "execution_count": null,
      "outputs": [
        {
          "output_type": "stream",
          "name": "stdout",
          "text": [
            "set() set()\n",
            "{1, 2.3, 2, 3, 4} {1, 2.3, 2, 3, 4}\n",
            "{1, 2.3} {1, 2.3}\n",
            "{1, 2, 3, 4, 2.3}\n"
          ]
        }
      ]
    },
    {
      "cell_type": "code",
      "source": [
        ""
      ],
      "metadata": {
        "id": "9ewugScrhcsR"
      },
      "execution_count": null,
      "outputs": []
    },
    {
      "cell_type": "markdown",
      "source": [
        "### 14.딕셔너리\n",
        "키와 값으로 이루어짐"
      ],
      "metadata": {
        "id": "rqr5igX3jJdl"
      }
    },
    {
      "cell_type": "code",
      "source": [
        "dic1 = {}\n",
        "dic2 = dict()\n",
        "\n",
        "print(type(dic1), dic1)\n",
        "print(type(dic2), dic2)"
      ],
      "metadata": {
        "colab": {
          "base_uri": "https://localhost:8080/"
        },
        "id": "x55yaSGvhcud",
        "outputId": "b127fdc1-861a-403b-cca6-c55f2385f4fe"
      },
      "execution_count": null,
      "outputs": [
        {
          "output_type": "stream",
          "name": "stdout",
          "text": [
            "<class 'dict'> {}\n",
            "<class 'dict'> {}\n"
          ]
        }
      ]
    },
    {
      "cell_type": "markdown",
      "source": [
        "#### 딕셔너리 특징"
      ],
      "metadata": {
        "id": "uR-ePTNAjxO7"
      }
    },
    {
      "cell_type": "code",
      "source": [
        "birth = {'day': 20, 'month': 12, 'year': 2001}\n",
        "\n",
        "print(birth['day'])\n",
        "#다른 구조들과 다르게 index(순서)를 통해 조회하는게 아니라 키를 넣어서 값을 얻음"
      ],
      "metadata": {
        "colab": {
          "base_uri": "https://localhost:8080/"
        },
        "id": "lfPK7iK0hcwk",
        "outputId": "1c3370d5-8847-4e35-e3d9-6d9064ab3f23"
      },
      "execution_count": null,
      "outputs": [
        {
          "output_type": "stream",
          "name": "stdout",
          "text": [
            "20\n"
          ]
        }
      ]
    },
    {
      "cell_type": "code",
      "source": [
        "birth['time']=8\n",
        "print(birth)\n",
        "#키와 값 추가"
      ],
      "metadata": {
        "colab": {
          "base_uri": "https://localhost:8080/"
        },
        "id": "dtL8N13EkCRN",
        "outputId": "8f9b999d-dba2-4ce7-c9b5-d2de8f750ad3"
      },
      "execution_count": null,
      "outputs": [
        {
          "output_type": "stream",
          "name": "stdout",
          "text": [
            "{'day': 20, 'month': 12, 'year': 2001, 'time': 8}\n"
          ]
        }
      ]
    },
    {
      "cell_type": "code",
      "source": [
        "birth['day']=13\n",
        "print(birth)\n",
        "#값 수정"
      ],
      "metadata": {
        "colab": {
          "base_uri": "https://localhost:8080/"
        },
        "id": "kV9vpFm6kP7c",
        "outputId": "6f9d1e1d-1c2a-486f-93af-d0798acd2018"
      },
      "execution_count": null,
      "outputs": [
        {
          "output_type": "stream",
          "name": "stdout",
          "text": [
            "{'day': 13, 'month': 12, 'year': 2001, 'time': 8}\n"
          ]
        }
      ]
    },
    {
      "cell_type": "code",
      "source": [
        ""
      ],
      "metadata": {
        "id": "WjQl8Mf6kd9s"
      },
      "execution_count": null,
      "outputs": []
    },
    {
      "cell_type": "markdown",
      "source": [
        "#### 딕셔너리 활용\n",
        "\n",
        "항목 삭제하기: 선택해서 삭제할 때는 키 이름 입력  \n",
        "모든 항목 삭제할 때는 clear"
      ],
      "metadata": {
        "id": "7ToNkmm7khSU"
      }
    },
    {
      "cell_type": "code",
      "source": [
        "del birth['time']\n",
        "print(birth)\n",
        "\n",
        "birth.clear()\n",
        "print(birth)"
      ],
      "metadata": {
        "colab": {
          "base_uri": "https://localhost:8080/"
        },
        "id": "N_HLXQzoksCE",
        "outputId": "ec85b4a2-65bc-418c-eb2c-6d0b3ddbac63"
      },
      "execution_count": null,
      "outputs": [
        {
          "output_type": "stream",
          "name": "stdout",
          "text": [
            "{'day': 13, 'month': 12, 'year': 2001}\n",
            "{}\n"
          ]
        }
      ]
    },
    {
      "cell_type": "code",
      "source": [
        ""
      ],
      "metadata": {
        "id": "O6kys0Pmk2qk"
      },
      "execution_count": null,
      "outputs": []
    }
  ]
}